{
 "cells": [
  {
   "cell_type": "markdown",
   "id": "963787c7-109c-41db-ad6f-3ee20cb55978",
   "metadata": {},
   "source": [
    "# Check Palindrome"
   ]
  },
  {
   "cell_type": "code",
   "execution_count": 18,
   "id": "5605e09b-e28f-43b3-9e60-174f5cafcbc7",
   "metadata": {},
   "outputs": [
    {
     "name": "stdin",
     "output_type": "stream",
     "text": [
      "enter a number : 12332123\n"
     ]
    },
    {
     "name": "stdout",
     "output_type": "stream",
     "text": [
      "reverse number is : 32123321\n",
      "NO\n"
     ]
    }
   ],
   "source": [
    "a = int(input(\"enter a number :\"))\n",
    "b = a\n",
    "rev = 0\n",
    "\n",
    "while a>0:\n",
    "    rev = rev * 10 + a%10\n",
    "    a = a//10\n",
    "    \n",
    "print(\"reverse number is :\",rev)\n",
    "\n",
    "\n",
    "if rev == b:\n",
    "    print(\"palindrome\")\n",
    "else:\n",
    "    print(\"NO\")"
   ]
  },
  {
   "cell_type": "code",
   "execution_count": null,
   "id": "04c0e626-37e4-4e58-8396-9a35ad21a5ec",
   "metadata": {},
   "outputs": [],
   "source": []
  }
 ],
 "metadata": {
  "kernelspec": {
   "display_name": "Python 3 (ipykernel)",
   "language": "python",
   "name": "python3"
  },
  "language_info": {
   "codemirror_mode": {
    "name": "ipython",
    "version": 3
   },
   "file_extension": ".py",
   "mimetype": "text/x-python",
   "name": "python",
   "nbconvert_exporter": "python",
   "pygments_lexer": "ipython3",
   "version": "3.13.5"
  }
 },
 "nbformat": 4,
 "nbformat_minor": 5
}
