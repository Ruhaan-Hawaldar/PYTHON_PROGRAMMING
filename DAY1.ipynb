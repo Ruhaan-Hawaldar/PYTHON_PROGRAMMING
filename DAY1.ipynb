{
 "cells": [
  {
   "cell_type": "markdown",
   "id": "c61bac3b-4ecb-49e2-8c9a-90e5f970b80d",
   "metadata": {},
   "source": [
    "# COUNT DIGITS IN NUMBER"
   ]
  },
  {
   "cell_type": "code",
   "execution_count": 6,
   "id": "ae6fa4f2-bfb9-42cd-b16c-650fa9992a3f",
   "metadata": {},
   "outputs": [
    {
     "name": "stdin",
     "output_type": "stream",
     "text": [
      "enter number: 123\n"
     ]
    },
    {
     "name": "stdout",
     "output_type": "stream",
     "text": [
      "count: 3\n"
     ]
    }
   ],
   "source": [
    "a = int(input(\"enter number:\"))\n",
    "count = 0\n",
    "while a>0:\n",
    "    a = a//10\n",
    "    count = count + 1\n",
    "\n",
    "print(\"count:\",count)"
   ]
  },
  {
   "cell_type": "code",
   "execution_count": null,
   "id": "e2c74504-37f6-4736-8164-e43c29e98418",
   "metadata": {},
   "outputs": [],
   "source": []
  }
 ],
 "metadata": {
  "kernelspec": {
   "display_name": "Python 3 (ipykernel)",
   "language": "python",
   "name": "python3"
  },
  "language_info": {
   "codemirror_mode": {
    "name": "ipython",
    "version": 3
   },
   "file_extension": ".py",
   "mimetype": "text/x-python",
   "name": "python",
   "nbconvert_exporter": "python",
   "pygments_lexer": "ipython3",
   "version": "3.13.5"
  }
 },
 "nbformat": 4,
 "nbformat_minor": 5
}
