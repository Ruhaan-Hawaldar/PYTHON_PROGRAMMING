{
 "cells": [
  {
   "cell_type": "markdown",
   "id": "0347bfc7-15b5-4237-869b-ace32b356587",
   "metadata": {},
   "source": [
    "# ARMSTRONG NUMBER\n",
    "\n",
    "An Amrstrong number is a number that is equal to the sum of its own digits each raised to the power of the number of digits.\n",
    "\n",
    "                Example 1:\n",
    "                Input:N = 153\n",
    "               \n",
    "                Output:True\n",
    "                \n",
    "                Explanation: 13+73+33 = 1 + 125 + 27 = 153\n",
    "                                        \n"
   ]
  },
  {
   "cell_type": "code",
   "execution_count": 9,
   "id": "fe892f66-e783-4e40-9fd8-ce77bfe4f60d",
   "metadata": {},
   "outputs": [
    {
     "name": "stdin",
     "output_type": "stream",
     "text": [
      "enter number: 153\n"
     ]
    },
    {
     "name": "stdout",
     "output_type": "stream",
     "text": [
      "153\n",
      "ARMSTRONG\n"
     ]
    }
   ],
   "source": [
    "N = int(input(\"enter number:\"))\n",
    "\n",
    "l = len(str(N))\n",
    "original = N\n",
    "total = 0\n",
    "while N>0:\n",
    "    last_digit = N%10\n",
    "    total = total + last_digit ** l\n",
    "    N = N//10\n",
    "print(total)\n",
    "\n",
    "if original == total:\n",
    "    print(\"ARMSTRONG\")\n",
    "else:\n",
    "    print(\"NOT ARMSTRONG\")"
   ]
  },
  {
   "cell_type": "code",
   "execution_count": null,
   "id": "5e8676e2-878b-45da-a7cf-5b9f470395ac",
   "metadata": {},
   "outputs": [],
   "source": []
  },
  {
   "cell_type": "code",
   "execution_count": null,
   "id": "1e25e2b3-b701-43be-a9f8-c724a7a67c3c",
   "metadata": {},
   "outputs": [],
   "source": []
  }
 ],
 "metadata": {
  "kernelspec": {
   "display_name": "Python 3 (ipykernel)",
   "language": "python",
   "name": "python3"
  },
  "language_info": {
   "codemirror_mode": {
    "name": "ipython",
    "version": 3
   },
   "file_extension": ".py",
   "mimetype": "text/x-python",
   "name": "python",
   "nbconvert_exporter": "python",
   "pygments_lexer": "ipython3",
   "version": "3.13.5"
  }
 },
 "nbformat": 4,
 "nbformat_minor": 5
}
