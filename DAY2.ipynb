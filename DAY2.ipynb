{
 "cells": [
  {
   "cell_type": "markdown",
   "id": "22acc346-e786-4c33-8994-691f40f19a0e",
   "metadata": {},
   "source": [
    "# Reverse a Number"
   ]
  },
  {
   "cell_type": "code",
   "execution_count": 6,
   "id": "208988a8-111e-4147-805d-c929f4e1bce9",
   "metadata": {},
   "outputs": [
    {
     "name": "stdin",
     "output_type": "stream",
     "text": [
      "enter a number : 123\n"
     ]
    },
    {
     "name": "stdout",
     "output_type": "stream",
     "text": [
      "reverse number is : 321\n"
     ]
    }
   ],
   "source": [
    "a = int(input(\"enter a number :\"))\n",
    "\n",
    "rev = 0\n",
    "\n",
    "while a>0:\n",
    "    rev = rev * 10 + a%10\n",
    "    a = a//10\n",
    "    \n",
    "print(\"reverse number is :\",rev)\n"
   ]
  },
  {
   "cell_type": "code",
   "execution_count": null,
   "id": "957a4845-a14d-43f1-b015-51384c27eb9e",
   "metadata": {},
   "outputs": [],
   "source": []
  },
  {
   "cell_type": "code",
   "execution_count": null,
   "id": "ed9a274c-5c36-4917-bfd5-73bca8a13ef9",
   "metadata": {},
   "outputs": [],
   "source": []
  }
 ],
 "metadata": {
  "kernelspec": {
   "display_name": "Python 3 (ipykernel)",
   "language": "python",
   "name": "python3"
  },
  "language_info": {
   "codemirror_mode": {
    "name": "ipython",
    "version": 3
   },
   "file_extension": ".py",
   "mimetype": "text/x-python",
   "name": "python",
   "nbconvert_exporter": "python",
   "pygments_lexer": "ipython3",
   "version": "3.13.5"
  }
 },
 "nbformat": 4,
 "nbformat_minor": 5
}
