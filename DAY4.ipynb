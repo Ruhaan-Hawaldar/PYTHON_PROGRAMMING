{
 "cells": [
  {
   "cell_type": "code",
   "execution_count": 7,
   "id": "1a302e86-30e6-41f4-b52d-6a8ab1f62f69",
   "metadata": {},
   "outputs": [
    {
     "name": "stdin",
     "output_type": "stream",
     "text": [
      "enter number 1: 24\n",
      "enter number 2: 16\n"
     ]
    },
    {
     "name": "stdout",
     "output_type": "stream",
     "text": [
      "8\n"
     ]
    }
   ],
   "source": [
    "n1 = int(input(\"enter number 1:\"))\n",
    "n2 = int(input(\"enter number 2:\"))\n",
    "\n",
    "for i in range(1,min(n1,n2)+1):\n",
    "    if n1%i == 0 and n2%i == 0:\n",
    "        gcd = i\n",
    "\n",
    "print(gcd)"
   ]
  },
  {
   "cell_type": "code",
   "execution_count": null,
   "id": "4933db12-fc0f-424e-b54e-1b2b3bab81a6",
   "metadata": {},
   "outputs": [],
   "source": []
  }
 ],
 "metadata": {
  "kernelspec": {
   "display_name": "Python 3 (ipykernel)",
   "language": "python",
   "name": "python3"
  },
  "language_info": {
   "codemirror_mode": {
    "name": "ipython",
    "version": 3
   },
   "file_extension": ".py",
   "mimetype": "text/x-python",
   "name": "python",
   "nbconvert_exporter": "python",
   "pygments_lexer": "ipython3",
   "version": "3.13.5"
  }
 },
 "nbformat": 4,
 "nbformat_minor": 5
}
