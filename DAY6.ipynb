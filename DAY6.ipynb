{
 "cells": [
  {
   "cell_type": "markdown",
   "id": "d3582898-6727-4e0f-8482-cb860dccc8b1",
   "metadata": {},
   "source": [
    "# Problem Statement: Given an integer N, return all divisors of N.\n",
    "A divisor of an integer N is a positive integer that divides N without leaving a remainder. In other words, if N is divisible by another integer without any remainder, then that integer is considered a divisor of N.\n",
    "\n",
    "Input: N = 36\n",
    "Output: [1, 2, 3, 4, 6, 9, 12, 18, 36]  \n",
    "Explanation: The divisors of 36 are 1, 2, 3, 4, 6, 9, 12, 18, 36.\n",
    "\n",
    "Input: N = 12\n",
    "Output: [1, 2, 3, 4, 6, 12]\n",
    "Explanation: The divisors of 12 are 1, 2, 3, 4, 6, 12.\n",
    "            "
   ]
  },
  {
   "cell_type": "code",
   "execution_count": 20,
   "id": "bd7906b6-263c-421e-920e-a7252ac79d6d",
   "metadata": {},
   "outputs": [
    {
     "name": "stdin",
     "output_type": "stream",
     "text": [
      "Enter number : 36\n"
     ]
    }
   ],
   "source": [
    "N = int(input(\"Enter number :\"))\n",
    "\n",
    "\n",
    "def get_divisor(N):\n",
    "    a = []\n",
    "    \n",
    "    for i in range(1,N+1):\n",
    "        if N%i == 0:\n",
    "            a.append(i)\n",
    "\n",
    "    return a\n",
    "\n",
    "\n",
    "        "
   ]
  },
  {
   "cell_type": "code",
   "execution_count": 21,
   "id": "fff706c8-b049-4473-994a-227516a5a315",
   "metadata": {},
   "outputs": [
    {
     "name": "stdout",
     "output_type": "stream",
     "text": [
      "[1, 2, 3, 4, 6, 9, 12, 18, 36]\n"
     ]
    }
   ],
   "source": [
    "print(get_divisor(N))"
   ]
  },
  {
   "cell_type": "code",
   "execution_count": null,
   "id": "76722219-74cc-455a-808b-465b73fe47fe",
   "metadata": {},
   "outputs": [],
   "source": []
  }
 ],
 "metadata": {
  "kernelspec": {
   "display_name": "Python 3 (ipykernel)",
   "language": "python",
   "name": "python3"
  },
  "language_info": {
   "codemirror_mode": {
    "name": "ipython",
    "version": 3
   },
   "file_extension": ".py",
   "mimetype": "text/x-python",
   "name": "python",
   "nbconvert_exporter": "python",
   "pygments_lexer": "ipython3",
   "version": "3.13.5"
  }
 },
 "nbformat": 4,
 "nbformat_minor": 5
}
